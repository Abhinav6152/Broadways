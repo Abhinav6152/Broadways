{
 "cells": [
  {
   "cell_type": "code",
   "execution_count": 1,
   "id": "6e8798df-83b6-4871-8ab0-c81fcf06fc9d",
   "metadata": {},
   "outputs": [],
   "source": [
    "import numpy as np"
   ]
  },
  {
   "cell_type": "code",
   "execution_count": 2,
   "id": "9abf966f-ec7a-4f6e-bfbe-8da7398c2d94",
   "metadata": {},
   "outputs": [
    {
     "name": "stdout",
     "output_type": "stream",
     "text": [
      "[[11 13 15]\n",
      " [17 19 21]]\n"
     ]
    }
   ],
   "source": [
    "arr1 = np.array([[1,2,3],[4,5,6]])\n",
    "arr2 = np.array([[10,11,12],[13,14,15]])\n",
    "\n",
    "print(np.add(arr1, arr2))"
   ]
  },
  {
   "cell_type": "code",
   "execution_count": 3,
   "id": "5a62b1d4-1378-4669-93d7-a5a88f5a1eb8",
   "metadata": {},
   "outputs": [
    {
     "name": "stdout",
     "output_type": "stream",
     "text": [
      "[[ 2  4  6]\n",
      " [ 8 10 12]]\n"
     ]
    }
   ],
   "source": [
    "arr = np.array([[1,2,3],[4,5,6]])\n",
    "print(np.multiply(arr,2))"
   ]
  },
  {
   "cell_type": "code",
   "execution_count": 4,
   "id": "697d1cc3-39dc-4dfe-abe7-c1560ea1a7ba",
   "metadata": {},
   "outputs": [
    {
     "name": "stdout",
     "output_type": "stream",
     "text": [
      "[[1 0 0 0]\n",
      " [0 1 0 0]\n",
      " [0 0 1 0]\n",
      " [0 0 0 1]]\n"
     ]
    }
   ],
   "source": [
    "print(np.identity(4, dtype=int))"
   ]
  },
  {
   "cell_type": "code",
   "execution_count": 5,
   "id": "699e4aa3-8af1-4d7d-9651-8a4483b194ec",
   "metadata": {},
   "outputs": [
    {
     "name": "stdout",
     "output_type": "stream",
     "text": [
      "[[[ 0  1  2]\n",
      "  [ 3  4  5]\n",
      "  [ 6  7  8]]\n",
      "\n",
      " [[ 9 10 11]\n",
      "  [12 13 14]\n",
      "  [15 16 17]]\n",
      "\n",
      " [[18 19 20]\n",
      "  [21 22 23]\n",
      "  [24 25 25]]]\n"
     ]
    }
   ],
   "source": [
    "arr1D = np.array([0,1,2,3,4,5,6,7,8,9,10,11,12,13,14,15,16,17,18,19,20,21,22,23,24,25,25])\n",
    "print(arr1D.reshape(3,3,3))"
   ]
  },
  {
   "cell_type": "code",
   "execution_count": 6,
   "id": "40c25eb1-de36-4b0e-bbe9-a6799c5976fb",
   "metadata": {},
   "outputs": [
    {
     "name": "stdout",
     "output_type": "stream",
     "text": [
      "original array: [[2.5  3.8  1.5 ]\n",
      " [4.7  2.9  1.56]]\n",
      "integer datatype array: [[2 3 1]\n",
      " [4 2 1]]\n"
     ]
    }
   ],
   "source": [
    "originalArr = np.array([[2.5,3.8,1.5],[4.7,2.9,1.56]])\n",
    "print('original array:', originalArr)\n",
    "\n",
    "intArr = originalArr.astype(int)\n",
    "print('integer datatype array:', intArr)"
   ]
  },
  {
   "cell_type": "code",
   "execution_count": 7,
   "id": "0933b9f9-5bcf-4457-81ef-95487b74f235",
   "metadata": {},
   "outputs": [
    {
     "name": "stdout",
     "output_type": "stream",
     "text": [
      "original: [[1 0 0]\n",
      " [1 1 1]\n",
      " [0 0 0]]\n",
      "bool array: [[ True False False]\n",
      " [ True  True  True]\n",
      " [False False False]]\n"
     ]
    }
   ],
   "source": [
    "binArr = np.array([[1,0,0],[1,1,1],[0,0,0]])\n",
    "print('original:', binArr)\n",
    "\n",
    "boolArr = binArr.astype(bool)\n",
    "print('bool array:', boolArr)"
   ]
  },
  {
   "cell_type": "code",
   "execution_count": 8,
   "id": "6bc5d1a9-4d37-4755-a6fc-1f21a60d3456",
   "metadata": {},
   "outputs": [
    {
     "name": "stdout",
     "output_type": "stream",
     "text": [
      "[[ 1  2  3  7  8  9]\n",
      " [ 4  5  6 10 11 12]]\n"
     ]
    }
   ],
   "source": [
    "arr1 = np.array([[1,2,3],[4,5,6]])\n",
    "arr2 = np.array([[7,8,9],[10,11,12]])\n",
    "\n",
    "print(np.hstack((arr1,arr2)))"
   ]
  },
  {
   "cell_type": "code",
   "execution_count": 9,
   "id": "79d2c055-f3ac-40d5-9098-a32f02bec915",
   "metadata": {},
   "outputs": [
    {
     "name": "stdout",
     "output_type": "stream",
     "text": [
      "[  0   2   4   6   8  10  12  14  16  18  20  22  24  26  28  30  32  34\n",
      "  36  38  40  42  44  46  48  50  52  54  56  58  60  62  64  66  68  70\n",
      "  72  74  76  78  80  82  84  86  88  90  92  94  96  98 100]\n"
     ]
    }
   ],
   "source": [
    "rangeArr = np.arange(0,101,2)\n",
    "print(rangeArr)"
   ]
  },
  {
   "cell_type": "code",
   "execution_count": 10,
   "id": "79868de9-400d-43a5-9e5d-25479fef6038",
   "metadata": {},
   "outputs": [
    {
     "name": "stdout",
     "output_type": "stream",
     "text": [
      "500189.05831394525\n"
     ]
    }
   ],
   "source": [
    "randArr = np.random.rand(1000000)\n",
    "\n",
    "sum = 0\n",
    "for i in randArr:\n",
    "    sum += i\n",
    "\n",
    "print(sum)"
   ]
  },
  {
   "cell_type": "code",
   "execution_count": 11,
   "id": "a7d4ee9c-db19-4580-bddf-39b7a26ecbfb",
   "metadata": {},
   "outputs": [
    {
     "name": "stdout",
     "output_type": "stream",
     "text": [
      "500189.0583139245\n"
     ]
    }
   ],
   "source": [
    "print(np.sum(randArr))"
   ]
  },
  {
   "cell_type": "code",
   "execution_count": 12,
   "id": "8dc271dd-4ed2-448c-b8a4-8b627118d2fb",
   "metadata": {},
   "outputs": [
    {
     "name": "stdout",
     "output_type": "stream",
     "text": [
      "(array([0, 3, 4]),)\n"
     ]
    }
   ],
   "source": [
    "arr1 = np.array([1,2,3,4,5])\n",
    "arr2 = np.array([1,3,2,4,5])\n",
    "\n",
    "result = np.where(arr1 == arr2)\n",
    "print(result)"
   ]
  },
  {
   "cell_type": "code",
   "execution_count": 13,
   "id": "ea9d9221-eede-45dc-8fc5-fc2388b77076",
   "metadata": {},
   "outputs": [
    {
     "name": "stdout",
     "output_type": "stream",
     "text": [
      "[  0.  25.  50.  75. 100.]\n"
     ]
    }
   ],
   "source": [
    "print(np.linspace(0,100,num=5))"
   ]
  },
  {
   "cell_type": "code",
   "execution_count": 14,
   "id": "93eda29d-2418-42f1-b74d-fc181ac96061",
   "metadata": {},
   "outputs": [
    {
     "name": "stdout",
     "output_type": "stream",
     "text": [
      "[[5 5 5]\n",
      " [5 5 5]]\n"
     ]
    }
   ],
   "source": [
    "print(np.full((2,3),5))"
   ]
  },
  {
   "cell_type": "code",
   "execution_count": 15,
   "id": "63271e0d-5bb5-4a86-91b6-75a24f941e84",
   "metadata": {},
   "outputs": [
    {
     "name": "stdout",
     "output_type": "stream",
     "text": [
      "[[ 5  3  1  4  1]\n",
      " [ 9  5  8  7  8]\n",
      " [10  7  9  1  8]\n",
      " [ 6  6  7  0  0]\n",
      " [ 0  1  7  3  6]]\n"
     ]
    }
   ],
   "source": [
    "print(np.random.randint(0,11,(5,5)))"
   ]
  },
  {
   "cell_type": "code",
   "execution_count": 16,
   "id": "fd01db1f-e81d-4edf-8aae-3f7e5b162140",
   "metadata": {},
   "outputs": [
    {
     "name": "stdout",
     "output_type": "stream",
     "text": [
      "[[ 36  42  48]\n",
      " [ 81  96 111]\n",
      " [126 150 174]]\n"
     ]
    }
   ],
   "source": [
    "arr1 = np.array([[1,2,3],[4,5,6],[7,8,9]])\n",
    "arr2 = np.array([[2,3,4],[5,6,7],[8,9,10]])\n",
    "\n",
    "print(np.dot(arr1,arr2))"
   ]
  },
  {
   "cell_type": "code",
   "execution_count": 17,
   "id": "42723184-6a2a-49a9-8e46-191ed0d5cf73",
   "metadata": {},
   "outputs": [
    {
     "name": "stdout",
     "output_type": "stream",
     "text": [
      "original [[0.52822261 0.35226806 0.21469589]\n",
      " [0.10439322 0.36162205 0.9484677 ]]\n",
      "transpose [[0.52822261 0.10439322]\n",
      " [0.35226806 0.36162205]\n",
      " [0.21469589 0.9484677 ]]\n"
     ]
    }
   ],
   "source": [
    "arr = np.random.random((2,3))\n",
    "print('original',arr)\n",
    "\n",
    "print('transpose', arr.T)"
   ]
  },
  {
   "cell_type": "code",
   "execution_count": 18,
   "id": "ee5c1668-3271-444f-b831-8d7a5c6c4406",
   "metadata": {},
   "outputs": [
    {
     "name": "stdout",
     "output_type": "stream",
     "text": [
      "flatten 15.3668474320532\n",
      "axis 0 [ 7.56224173 17.68473918 18.59267329  3.04138127  0.        ]\n",
      "axis 1 [ 0.          8.7772433  20.53874388 16.40243884]\n"
     ]
    }
   ],
   "source": [
    "arr = np.array([[2,2,2,2,2],[15,6,27,8,2],[23,2,54,1,2],[11,44,34,7,2]])\n",
    "\n",
    "# for flatten\n",
    "print('flatten', np.std(arr))\n",
    "\n",
    "#for axis 0 and 1\n",
    "print('axis 0', np.std(arr,axis=0)) #axis 0\n",
    "print('axis 1', np.std(arr,axis=1)) # axis 1"
   ]
  },
  {
   "cell_type": "code",
   "execution_count": 19,
   "id": "7e36acd1-309c-4fd0-8625-c667e4f84e70",
   "metadata": {},
   "outputs": [
    {
     "name": "stdout",
     "output_type": "stream",
     "text": [
      "[[ 0.17647059 -0.00326797 -0.02287582]\n",
      " [ 0.05882353 -0.13071895  0.08496732]\n",
      " [-0.11764706  0.1503268   0.05228758]]\n"
     ]
    }
   ],
   "source": [
    "arr = np.array([[6,1,1],[4,-2,5],[2,8,7]])\n",
    "\n",
    "print(np.linalg.inv(arr))"
   ]
  },
  {
   "cell_type": "code",
   "execution_count": 20,
   "id": "61c65339-4759-425b-a349-e7ec0f417e2a",
   "metadata": {},
   "outputs": [
    {
     "name": "stdout",
     "output_type": "stream",
     "text": [
      "Requirement already satisfied: pillow in c:\\users\\abhin\\anaconda3\\lib\\site-packages (11.1.0)\n"
     ]
    }
   ],
   "source": [
    "!pip install pillow"
   ]
  },
  {
   "cell_type": "code",
   "execution_count": 22,
   "id": "b2127498-8133-4dfe-9243-ac822d39fd66",
   "metadata": {},
   "outputs": [
    {
     "ename": "FileNotFoundError",
     "evalue": "[Errno 2] No such file or directory: 'free-nature-images.jpg'",
     "output_type": "error",
     "traceback": [
      "\u001b[1;31m---------------------------------------------------------------------------\u001b[0m",
      "\u001b[1;31mFileNotFoundError\u001b[0m                         Traceback (most recent call last)",
      "Cell \u001b[1;32mIn[22], line 4\u001b[0m\n\u001b[0;32m      1\u001b[0m \u001b[38;5;28;01mfrom\u001b[39;00m\u001b[38;5;250m \u001b[39m\u001b[38;5;21;01mPIL\u001b[39;00m\u001b[38;5;250m \u001b[39m\u001b[38;5;28;01mimport\u001b[39;00m Image\n\u001b[0;32m      2\u001b[0m \u001b[38;5;28;01mimport\u001b[39;00m\u001b[38;5;250m \u001b[39m\u001b[38;5;21;01mnumpy\u001b[39;00m\u001b[38;5;250m \u001b[39m\u001b[38;5;28;01mas\u001b[39;00m\u001b[38;5;250m \u001b[39m\u001b[38;5;21;01mnp\u001b[39;00m  \u001b[38;5;66;03m# <-- Missing import\u001b[39;00m\n\u001b[1;32m----> 4\u001b[0m img \u001b[38;5;241m=\u001b[39m Image\u001b[38;5;241m.\u001b[39mopen(\u001b[38;5;124m\"\u001b[39m\u001b[38;5;124mfree-nature-images.jpg\u001b[39m\u001b[38;5;124m\"\u001b[39m)\n\u001b[0;32m      6\u001b[0m picArr \u001b[38;5;241m=\u001b[39m np\u001b[38;5;241m.\u001b[39marray(img)\n\u001b[0;32m      8\u001b[0m \u001b[38;5;28mprint\u001b[39m(picArr)\n",
      "File \u001b[1;32m~\\anaconda3\\Lib\\site-packages\\PIL\\Image.py:3465\u001b[0m, in \u001b[0;36mopen\u001b[1;34m(fp, mode, formats)\u001b[0m\n\u001b[0;32m   3462\u001b[0m     filename \u001b[38;5;241m=\u001b[39m os\u001b[38;5;241m.\u001b[39mfspath(fp)\n\u001b[0;32m   3464\u001b[0m \u001b[38;5;28;01mif\u001b[39;00m filename:\n\u001b[1;32m-> 3465\u001b[0m     fp \u001b[38;5;241m=\u001b[39m builtins\u001b[38;5;241m.\u001b[39mopen(filename, \u001b[38;5;124m\"\u001b[39m\u001b[38;5;124mrb\u001b[39m\u001b[38;5;124m\"\u001b[39m)\n\u001b[0;32m   3466\u001b[0m     exclusive_fp \u001b[38;5;241m=\u001b[39m \u001b[38;5;28;01mTrue\u001b[39;00m\n\u001b[0;32m   3467\u001b[0m \u001b[38;5;28;01melse\u001b[39;00m:\n",
      "\u001b[1;31mFileNotFoundError\u001b[0m: [Errno 2] No such file or directory: 'free-nature-images.jpg'"
     ]
    }
   ],
   "source": [
    "from PIL import Image\n",
    "import numpy as np  # <-- Missing import\n",
    "\n",
    "img = Image.open(\"free-nature-images.jpg\")\n",
    "\n",
    "picArr = np.array(img)\n",
    "\n",
    "print(picArr)\n",
    "print(picArr.shape)\n",
    "print(picArr.dtype)\n"
   ]
  },
  {
   "cell_type": "code",
   "execution_count": 23,
   "id": "215b8034-0c02-4757-8920-7d9148532429",
   "metadata": {},
   "outputs": [
    {
     "name": "stdout",
     "output_type": "stream",
     "text": [
      "[[  0   0]\n",
      " [  1   1]\n",
      " [  2   8]\n",
      " [  3  27]\n",
      " [  4  64]\n",
      " [  5 125]\n",
      " [  6 216]]\n"
     ]
    }
   ],
   "source": [
    "demoDict = {0: 0, 1: 1, 2: 8, 3: 27, 4: 64, 5: 125, 6: 216}\n",
    "\n",
    "arr = np.array(list(demoDict.items()))\n",
    "print(arr)"
   ]
  },
  {
   "cell_type": "code",
   "execution_count": 24,
   "id": "d3bbc11c-dee0-46f3-ab77-e1a7e67d2fe7",
   "metadata": {},
   "outputs": [
    {
     "name": "stdout",
     "output_type": "stream",
     "text": [
      "[2.6 3.2 1. ]\n"
     ]
    }
   ],
   "source": [
    "x = np.array([[3,1,-2],[2,-1,1],[1,2,3]])\n",
    "b = np.array([9,3,12])\n",
    "\n",
    "print(np.linalg.solve(x,b))"
   ]
  },
  {
   "cell_type": "code",
   "execution_count": 25,
   "id": "cbc3a646-d587-4f94-84fc-64cddaff15ff",
   "metadata": {},
   "outputs": [
    {
     "name": "stdout",
     "output_type": "stream",
     "text": [
      "(3, 3, 3)\n",
      "[[[1 2 3]\n",
      "  [4 5 6]\n",
      "  [7 8 9]]\n",
      "\n",
      " [[1 2 3]\n",
      "  [4 5 6]\n",
      "  [7 8 9]]\n",
      "\n",
      " [[1 2 3]\n",
      "  [4 5 6]\n",
      "  [7 8 9]]]\n"
     ]
    }
   ],
   "source": [
    "arr = np.array([[[1,2,3],[4,5,6],[7,8,9]],[[1,2,3],[4,5,6],[7,8,9]],[[1,2,3],[4,5,6],[7,8,9]]])\n",
    "print(arr.shape)\n",
    "print(arr)"
   ]
  },
  {
   "cell_type": "code",
   "execution_count": 26,
   "id": "712d3f7e-5eaf-4528-9ae5-727b8882d6a1",
   "metadata": {},
   "outputs": [
    {
     "name": "stdout",
     "output_type": "stream",
     "text": [
      "[1 2 3 4 5 6 7 8 9 1 2 3 4 5 6 7 8 9 1 2 3 4 5 6 7 8 9]\n"
     ]
    }
   ],
   "source": [
    "print(arr.reshape(-1,))"
   ]
  },
  {
   "cell_type": "code",
   "execution_count": 27,
   "id": "e680b1bb-5379-405b-8ca6-422fb1506288",
   "metadata": {},
   "outputs": [
    {
     "name": "stdout",
     "output_type": "stream",
     "text": [
      "Array:\n",
      " [[0.78368028 0.65016107 0.03936709]\n",
      " [0.63663409 0.45342623 0.54456543]\n",
      " [0.84936023 0.56874699 0.56578698]]\n",
      "\n",
      "Pairwise Distance Matrix:\n",
      " [[0.         0.56174064 0.53671223]\n",
      " [0.56174064 0.         0.24290254]\n",
      " [0.53671223 0.24290254 0.        ]]\n"
     ]
    }
   ],
   "source": [
    "arr = np.random.rand(3, 3)\n",
    "print(\"Array:\\n\", arr)\n",
    "\n",
    "#euclidian distance = distance between every pair of rows.\n",
    "\n",
    "dist_matrix = np.zeros((3, 3))\n",
    "for i in range(3):\n",
    "    for j in range(3):\n",
    "        #norm = distance between two given vectors.\n",
    "        dist_matrix[i, j] = np.linalg.norm(arr[i] - arr[j])\n",
    "\n",
    "print(\"\\nPairwise Distance Matrix:\\n\", dist_matrix)"
   ]
  },
  {
   "cell_type": "code",
   "execution_count": null,
   "id": "9b6af462-8347-4592-b174-ad046c941196",
   "metadata": {},
   "outputs": [],
   "source": []
  }
 ],
 "metadata": {
  "kernelspec": {
   "display_name": "Python 3 (ipykernel)",
   "language": "python",
   "name": "python3"
  },
  "language_info": {
   "codemirror_mode": {
    "name": "ipython",
    "version": 3
   },
   "file_extension": ".py",
   "mimetype": "text/x-python",
   "name": "python",
   "nbconvert_exporter": "python",
   "pygments_lexer": "ipython3",
   "version": "3.13.5"
  }
 },
 "nbformat": 4,
 "nbformat_minor": 5
}
